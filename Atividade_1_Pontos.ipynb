{
  "cells": [
    {
      "cell_type": "markdown",
      "source": [],
      "metadata": {
        "id": "llHfzCOsKLFV"
      }
    },
    {
      "cell_type": "markdown",
      "metadata": {
        "id": "XAdlKnDBj5uB"
      },
      "source": [
        "# EFC1 GCC253 - Complexidade e Projeto de Algoritmos - 5 pontos.\n",
        "\n",
        "\n",
        "> **Prof.: Douglas H. S. Abreu**\n",
        "\n",
        "\n",
        "**Aluno**: Eric Assis Ribeiro,Fernando Mauricio Roque\n",
        "\n",
        "**Matricula** 201910880, 201720355\n",
        "\n",
        "**Turma**: 10A, 10A\n",
        "\n",
        "Link do repositório GitHub: https://github.com/eribito/EFC1-GCC253\n",
        "\n",
        "● O trabalho deve ser feito em grupos de no máximo 4 componentes (Apenas um deve enviar a atividade no Campus Virtual)\n",
        "\n",
        "● Trabalhos entregues após a data limite não serão aceitos\n",
        "\n",
        "● Data limite de entrega: 20 de Novembro de 2022 : 23h55m\n",
        "\n",
        "● Enviar o trabalho para o campus virtual, do seguinte modo: link do repositório GitHub com acesso ao Notebook.\n",
        "\n",
        "● O trabalho deve ser desenvolvido no modelo Notebook utilizando preferencialmente a linguagem Python"
      ]
    },
    {
      "cell_type": "markdown",
      "metadata": {
        "id": "J3d6JlRUxREN"
      },
      "source": [
        "# Importações e Variáveis globais"
      ]
    },
    {
      "cell_type": "code",
      "execution_count": 13,
      "metadata": {
        "id": "Ur1DVGQAxac4"
      },
      "outputs": [],
      "source": [
        "import numpy as np\n",
        "import time\n",
        "from math import floor\n",
        "\n",
        "global_1=0\n",
        "\n",
        "def trocaElementos(vetor, posA, posB):\n",
        "    vetor[posA], vetor[posB]=vetor[posB] ,vetor[posA]\n",
        "\n",
        "def gerarArranjosAleatorios(numeros_aleatorios):\n",
        "  Aleatorio = np.random.randint(0, 1000, (numeros_aleatorios))\n",
        "  return Aleatorio\n",
        "   "
      ]
    },
    {
      "cell_type": "markdown",
      "metadata": {
        "id": "kPNpzNYwkKAO"
      },
      "source": [
        "# Funções de Ordenação\n",
        "\n",
        "> Utilize este espaço para definir as funções de ordenação.\n",
        "\n"
      ]
    },
    {
      "cell_type": "markdown",
      "source": [
        "# Insertion Sort"
      ],
      "metadata": {
        "id": "0F_g_ldC69Xr"
      }
    },
    {
      "cell_type": "code",
      "execution_count": null,
      "metadata": {
        "id": "kbOrhdB-j_px"
      },
      "outputs": [],
      "source": [
        "def insertionSort(A):\n",
        "  for j in range (1,len(A)):\n",
        "    chave=A[j]\n",
        "    i=j-1\n",
        "    while i>=0 and A[i] > chave:\n",
        "      A[i+1]= A[i]\n",
        "      A[i] = chave\n",
        "      i = i -1\n",
        "  A[i+1]=chave\n",
        "  return A\n",
        "  \n"
      ]
    },
    {
      "cell_type": "markdown",
      "metadata": {
        "id": "9a-wJwU-wtmQ"
      },
      "source": [
        "##  Merge Sort\n"
      ]
    },
    {
      "cell_type": "code",
      "execution_count": null,
      "metadata": {
        "id": "8cgIJ_4EwbPN"
      },
      "outputs": [],
      "source": [
        "def mergeSort(A):\n",
        "  if len(A)> 1:\n",
        "      meio = len(A)//2\n",
        "      metadeEsquerda = A[:meio]\n",
        "      metadeDireita = A[meio:]\n",
        "\n",
        "      mergeSort(metadeEsquerda)\n",
        "      mergeSort(metadeDireita)\n",
        "\n",
        "      i=0\n",
        "      j=0\n",
        "      k=0\n",
        "      while i < len(metadeEsquerda) and j < len(metadeDireita):\n",
        "            if metadeEsquerda[i] < metadeDireita[j]:\n",
        "                A[k]=metadeEsquerda[i]\n",
        "                i=i+1\n",
        "            else:\n",
        "                A[k]=metadeDireita[j]\n",
        "                j=j+1\n",
        "            k=k+1\n",
        "\n",
        "      while i < len(metadeEsquerda):\n",
        "            A[k]=metadeEsquerda[i]\n",
        "            i=i+1\n",
        "            k=k+1\n",
        "\n",
        "      while j < len(metadeDireita):\n",
        "            A[k]=metadeDireita[j]\n",
        "            j=j+1\n",
        "            k=k+1    \n",
        "  return A"
      ]
    },
    {
      "cell_type": "markdown",
      "metadata": {
        "id": "8dWpeYUvw-wU"
      },
      "source": [
        "##  Selection Sort\n"
      ]
    },
    {
      "cell_type": "code",
      "execution_count": null,
      "metadata": {
        "id": "vNgUDShawygu"
      },
      "outputs": [],
      "source": [
        "def selectionSort(A):\n",
        "  n = len(A)\n",
        "  # Percorre o arranjo A.\n",
        "  for i in range(n):\n",
        "    # Encontra o elemento menor em A.\n",
        "    menor = i\n",
        "    for j in range(i + 1, n):\n",
        "      if A[menor] > A[j]:\n",
        "        menor = j\n",
        "  # Coloca o elemento menor na posição correta.\n",
        "    A[i], A[menor] = A[menor],A[i]\n",
        "  \n",
        "  return A"
      ]
    },
    {
      "cell_type": "markdown",
      "metadata": {
        "id": "zNI1kX0yyDrs"
      },
      "source": [
        "##  Bubble Sort\n"
      ]
    },
    {
      "cell_type": "code",
      "execution_count": null,
      "metadata": {
        "id": "6X_zk1yWxMQS"
      },
      "outputs": [],
      "source": [
        "def bubbleSort(A):\n",
        "  for j in range(len(A)-1,0,-1):\n",
        "    for i in range(j):\n",
        "      if A[i]>A[i+1]:\n",
        "        A[i], A[i+1] = A[i+1],A[i]\n",
        "  return A"
      ]
    },
    {
      "cell_type": "markdown",
      "metadata": {
        "id": "vk4vOTkKyLB-"
      },
      "source": [
        "## Heap Sort"
      ]
    },
    {
      "cell_type": "code",
      "execution_count": 11,
      "metadata": {
        "id": "39a7xXzLyH9g"
      },
      "outputs": [],
      "source": [
        "def heapSort(vetor, posFim):\n",
        "    qtdeComparacoes = 0\n",
        "    ini= time.time()\n",
        "\n",
        "    i = int(floor(posFim/2))\n",
        "    while(i >= 0):\n",
        "        qtdeComparacoes = criaHeap(vetor, i, posFim, qtdeComparacoes)\n",
        "        i -= 1\n",
        "\n",
        "    while(posFim > 0):\n",
        "        qtdeComparacoes = removeRaiz(vetor, posFim, qtdeComparacoes)\n",
        "        posFim -= 1\n",
        "\n",
        "    fim = time.time()\n",
        "    tempo_exec=fim-ini\n",
        "    return tempo_exec, qtdeComparacoes;\n",
        "\n",
        "def criaHeap(vetor, posInicio, posFim, qtdeComparacoes):\n",
        "    i = posInicio\n",
        "    while i <= posFim:\n",
        "        maiorFilho = i * 2 + 1\n",
        "\n",
        "        #descobre qual dos filhos é o maior\n",
        "        if maiorFilho <= posFim:\n",
        "            qtdeComparacoes += 1\n",
        "            if (maiorFilho + 1 <= posFim) and (vetor[maiorFilho] < vetor[maiorFilho+1]):\n",
        "                maiorFilho += 1\n",
        "\n",
        "            #filho é maior que o pai\n",
        "            qtdeComparacoes += 1\n",
        "            if vetor[maiorFilho] > vetor[i]:\n",
        "                trocaElementos(vetor, maiorFilho, i)\n",
        "                i = maiorFilho\n",
        "            else:\n",
        "                i = posFim + 1\n",
        "\n",
        "        #é uma folha\n",
        "        else:\n",
        "            i = posFim + 1\n",
        "\n",
        "    return qtdeComparacoes\n",
        "            \n",
        "\n",
        "def removeRaiz(vetor, posFim, qtdeComparacoes):\n",
        "    trocaElementos(vetor, 0, posFim)\n",
        "    criaHeap(vetor, 0, posFim - 1, qtdeComparacoes)\n",
        "    return qtdeComparacoes\n",
        "  \n",
        "  "
      ]
    },
    {
      "cell_type": "markdown",
      "metadata": {
        "id": "fFiGho5CyU3t"
      },
      "source": [
        "## Quick Sort com pivo sendo o ultimo elemento do arranjo\n",
        "\n",
        "> pivo = *A[A-comprimento]*"
      ]
    },
    {
      "cell_type": "code",
      "execution_count": null,
      "metadata": {
        "id": "1Ie_N5CRyKY7"
      },
      "outputs": [],
      "source": [
        "def quickSort(a, ini=0, fim=None):\n",
        "    if fim is not None:\n",
        "      fim = fim\n",
        "    else:\n",
        "      fim = len(a)\n",
        "\n",
        "    if ini < fim:\n",
        "        pp = particao(a, ini, fim)\n",
        "        quickSort(a, ini, pp)\n",
        "        quickSort(a, pp + 1, fim)\n",
        "    return a\n",
        "\n",
        "def particao(a, ini, fim):\n",
        "    pivo = a[fim-1]\n",
        "    for i in range(ini, fim):\n",
        "        if a[i] > pivo:\n",
        "            fim += 1\n",
        "        else:\n",
        "            fim += 1\n",
        "            ini += 1\n",
        "            a[i], a[ini - 1] = a[ini - 1], a[i]\n",
        "    return ini - 1"
      ]
    },
    {
      "cell_type": "markdown",
      "metadata": {
        "id": "VomdAnCrzEv1"
      },
      "source": [
        "# Questões"
      ]
    },
    {
      "cell_type": "markdown",
      "metadata": {
        "id": "3QKV979kzItD"
      },
      "source": [
        "\n",
        "\n",
        "1.   Escolha pelo menos 3 arranjos. Ex: ***A[5,...,1000,...,100]*** e mostre o funcionamento dos Algoritmos realizando a ordenação.\n",
        "\n",
        "\n",
        "\n"
      ]
    },
    {
      "cell_type": "markdown",
      "source": [
        "#    Insertion Sort Resposta"
      ],
      "metadata": {
        "id": "xKySrDB597pG"
      }
    },
    {
      "cell_type": "code",
      "source": [
        "insertionSort([5,3,6,3999,0,65,99,0.8,-9,10])"
      ],
      "metadata": {
        "id": "jEZkre3wYV9W",
        "outputId": "e9e822d0-2099-43ab-a2f6-71266035c336",
        "colab": {
          "base_uri": "https://localhost:8080/"
        }
      },
      "execution_count": null,
      "outputs": [
        {
          "output_type": "execute_result",
          "data": {
            "text/plain": [
              "[-9, 0, 0.8, 3, 5, 6, 10, 65, 99, 3999]"
            ]
          },
          "metadata": {},
          "execution_count": 23
        }
      ]
    },
    {
      "cell_type": "code",
      "source": [
        "insertionSort([10000,-999,88,2888888888888,11111111111,-8888])"
      ],
      "metadata": {
        "colab": {
          "base_uri": "https://localhost:8080/"
        },
        "id": "ibxbOAk_-J1c",
        "outputId": "264f03c5-710a-4215-df0e-ca4b07fbb673"
      },
      "execution_count": null,
      "outputs": [
        {
          "output_type": "execute_result",
          "data": {
            "text/plain": [
              "[-8888, -999, 88, 10000, 11111111111, 2888888888888]"
            ]
          },
          "metadata": {},
          "execution_count": 26
        }
      ]
    },
    {
      "cell_type": "code",
      "source": [
        "insertionSort([1,4,3,2,6,77,99,66,55,44,33])"
      ],
      "metadata": {
        "colab": {
          "base_uri": "https://localhost:8080/"
        },
        "id": "V7h5Iz-8JeRm",
        "outputId": "8cbd18fc-57ec-4510-f6c8-6b9e6ef1153e"
      },
      "execution_count": null,
      "outputs": [
        {
          "output_type": "execute_result",
          "data": {
            "text/plain": [
              "[1, 2, 3, 4, 6, 33, 44, 55, 66, 77, 99]"
            ]
          },
          "metadata": {},
          "execution_count": 67
        }
      ]
    },
    {
      "cell_type": "code",
      "source": [
        "insertionSort([100,-76,56,1,0,33,-9,567,333,111,8,9,6,5,4,33,22,11])"
      ],
      "metadata": {
        "colab": {
          "base_uri": "https://localhost:8080/"
        },
        "id": "2IE3as-y-dc8",
        "outputId": "c595d0db-b355-49aa-87ba-9fdd2c7cc2c9"
      },
      "execution_count": null,
      "outputs": [
        {
          "output_type": "execute_result",
          "data": {
            "text/plain": [
              "[-76, -9, 0, 1, 4, 5, 6, 8, 9, 11, 22, 33, 33, 56, 100, 111, 333, 567]"
            ]
          },
          "metadata": {},
          "execution_count": 27
        }
      ]
    },
    {
      "cell_type": "code",
      "source": [
        "insertionSort([154,-99,848,2,1,88,5,76,66,55,44,33,22,11,7])"
      ],
      "metadata": {
        "colab": {
          "base_uri": "https://localhost:8080/"
        },
        "id": "-A5Zh6sO-wpB",
        "outputId": "8053ba73-3899-41ee-90af-f7bb6fbca625"
      },
      "execution_count": null,
      "outputs": [
        {
          "output_type": "execute_result",
          "data": {
            "text/plain": [
              "[-99, 1, 2, 5, 7, 11, 22, 33, 44, 55, 66, 76, 88, 154, 848]"
            ]
          },
          "metadata": {},
          "execution_count": 31
        }
      ]
    },
    {
      "cell_type": "markdown",
      "source": [
        "# Merge Sort Respostas"
      ],
      "metadata": {
        "id": "FpVomMq7_vH0"
      }
    },
    {
      "cell_type": "code",
      "source": [
        "mergeSort([5,3,6,3999,0,65,99,0.8,-9,10])"
      ],
      "metadata": {
        "colab": {
          "base_uri": "https://localhost:8080/"
        },
        "id": "Uz-GGNa2H_0-",
        "outputId": "9037f35b-b977-411c-9a35-11c6a027fe1d"
      },
      "execution_count": null,
      "outputs": [
        {
          "output_type": "execute_result",
          "data": {
            "text/plain": [
              "[-9, 0, 0.8, 3, 5, 6, 10, 65, 99, 3999]"
            ]
          },
          "metadata": {},
          "execution_count": 42
        }
      ]
    },
    {
      "cell_type": "code",
      "source": [
        "mergeSort([10000,-999,88,2888888888888,11111111111,-8888])"
      ],
      "metadata": {
        "colab": {
          "base_uri": "https://localhost:8080/"
        },
        "id": "hwalStzEAkrW",
        "outputId": "b9c260b4-ec1d-4dc2-96d6-1fb1cd556b75"
      },
      "execution_count": null,
      "outputs": [
        {
          "output_type": "execute_result",
          "data": {
            "text/plain": [
              "[-8888, -999, 88, 10000, 11111111111, 2888888888888]"
            ]
          },
          "metadata": {},
          "execution_count": 43
        }
      ]
    },
    {
      "cell_type": "code",
      "source": [
        "mergeSort([1,4,3,2,6,77,99,66,55,44,33])"
      ],
      "metadata": {
        "colab": {
          "base_uri": "https://localhost:8080/"
        },
        "id": "tUb-oZoKA0J3",
        "outputId": "790251d9-2c70-4498-8058-e164cccd758c"
      },
      "execution_count": null,
      "outputs": [
        {
          "output_type": "execute_result",
          "data": {
            "text/plain": [
              "[1, 2, 3, 4, 6, 33, 44, 55, 66, 77, 99]"
            ]
          },
          "metadata": {},
          "execution_count": 60
        }
      ]
    },
    {
      "cell_type": "code",
      "source": [
        "mergeSort([100,-76,56,1,0,33,-9,567,333,111,8,9,6,5,4,33,22,11])"
      ],
      "metadata": {
        "colab": {
          "base_uri": "https://localhost:8080/"
        },
        "id": "r55TWyJjA7t_",
        "outputId": "7f79f171-95da-4cd9-f7ae-27e21343e04f"
      },
      "execution_count": null,
      "outputs": [
        {
          "output_type": "execute_result",
          "data": {
            "text/plain": [
              "[-76, -9, 0, 1, 4, 5, 6, 8, 9, 11, 22, 33, 33, 56, 100, 111, 333, 567]"
            ]
          },
          "metadata": {},
          "execution_count": 45
        }
      ]
    },
    {
      "cell_type": "code",
      "source": [
        "mergeSort([154,-99,848,2,1,88,5,76,66,55,44,33,22,11,7])"
      ],
      "metadata": {
        "colab": {
          "base_uri": "https://localhost:8080/"
        },
        "id": "dC08tajYA_me",
        "outputId": "3089db7f-41ef-4aab-acf4-47a64157926b"
      },
      "execution_count": null,
      "outputs": [
        {
          "output_type": "execute_result",
          "data": {
            "text/plain": [
              "[-99, 1, 2, 5, 7, 11, 22, 33, 44, 55, 66, 76, 88, 154, 848]"
            ]
          },
          "metadata": {},
          "execution_count": 46
        }
      ]
    },
    {
      "cell_type": "markdown",
      "source": [
        "# Selection Sort Resposta"
      ],
      "metadata": {
        "id": "SmKpxpS6BbzC"
      }
    },
    {
      "cell_type": "code",
      "source": [
        "selectionSort([5,3,6,3999,0,65,99,0.8,-9,10])"
      ],
      "metadata": {
        "colab": {
          "base_uri": "https://localhost:8080/"
        },
        "id": "BWn942iLdFdh",
        "outputId": "32c333bb-1209-4e03-f941-7a020adc75a8"
      },
      "execution_count": null,
      "outputs": [
        {
          "output_type": "execute_result",
          "data": {
            "text/plain": [
              "[-9, 0, 0.8, 3, 5, 6, 10, 65, 99, 3999]"
            ]
          },
          "metadata": {},
          "execution_count": 5
        }
      ]
    },
    {
      "cell_type": "code",
      "source": [
        "selectionSort([10000,-999,88,2888888888888,11111111111,-8888])"
      ],
      "metadata": {
        "colab": {
          "base_uri": "https://localhost:8080/"
        },
        "id": "cqLQMu0DHvx9",
        "outputId": "3ec5b701-5624-4a0c-d7eb-9848cbbb7291"
      },
      "execution_count": null,
      "outputs": [
        {
          "output_type": "execute_result",
          "data": {
            "text/plain": [
              "[-8888, -999, 88, 10000, 11111111111, 2888888888888]"
            ]
          },
          "metadata": {},
          "execution_count": 49
        }
      ]
    },
    {
      "cell_type": "code",
      "source": [
        "selectionSort([100,-76,56,1,0,33,-9,567,333,111,8,9,6,5,4,33,22,11])"
      ],
      "metadata": {
        "colab": {
          "base_uri": "https://localhost:8080/"
        },
        "id": "QIQWfDOWHzbA",
        "outputId": "2ac488eb-42eb-4592-853e-5c4531f6f284"
      },
      "execution_count": null,
      "outputs": [
        {
          "output_type": "execute_result",
          "data": {
            "text/plain": [
              "[-76, -9, 0, 1, 4, 5, 6, 8, 9, 11, 22, 33, 33, 56, 100, 111, 333, 567]"
            ]
          },
          "metadata": {},
          "execution_count": 50
        }
      ]
    },
    {
      "cell_type": "code",
      "source": [
        "selectionSort([1,4,3,2,6,77,99,66,55,44,33])"
      ],
      "metadata": {
        "colab": {
          "base_uri": "https://localhost:8080/"
        },
        "id": "fHGJsOesH2O0",
        "outputId": "1e42ac7b-bb26-4968-8b0f-904ef2e469cb"
      },
      "execution_count": null,
      "outputs": [
        {
          "output_type": "execute_result",
          "data": {
            "text/plain": [
              "[1, 2, 3, 4, 6, 33, 44, 55, 66, 77, 99]"
            ]
          },
          "metadata": {},
          "execution_count": 62
        }
      ]
    },
    {
      "cell_type": "code",
      "source": [
        "selectionSort([154,-99,848,2,1,88,5,76,66,55,44,33,22,11,7])"
      ],
      "metadata": {
        "colab": {
          "base_uri": "https://localhost:8080/"
        },
        "id": "frWIIdscIBEv",
        "outputId": "c90d91d5-3b7b-457b-cdc8-12d9dff01cd9"
      },
      "execution_count": null,
      "outputs": [
        {
          "output_type": "execute_result",
          "data": {
            "text/plain": [
              "[-99, 1, 2, 5, 7, 11, 22, 33, 44, 55, 66, 76, 88, 154, 848]"
            ]
          },
          "metadata": {},
          "execution_count": 53
        }
      ]
    },
    {
      "cell_type": "markdown",
      "source": [
        "# Bubble Sort Resposta"
      ],
      "metadata": {
        "id": "WxX2clkWEZby"
      }
    },
    {
      "cell_type": "code",
      "source": [
        "bubbleSort([5,3,6,3999,0,65,99,0.8,-9,10])"
      ],
      "metadata": {
        "colab": {
          "base_uri": "https://localhost:8080/"
        },
        "id": "P-nZSN9CjgWw",
        "outputId": "2e33ae63-f740-4cb7-cfa2-9497c3b1c50e"
      },
      "execution_count": null,
      "outputs": [
        {
          "output_type": "execute_result",
          "data": {
            "text/plain": [
              "[-9, 0, 0.8, 3, 5, 6, 10, 65, 99, 3999]"
            ]
          },
          "metadata": {},
          "execution_count": 8
        }
      ]
    },
    {
      "cell_type": "code",
      "source": [
        "bubbleSort([10000,-999,88,2888888888888,11111111111,-8888])"
      ],
      "metadata": {
        "colab": {
          "base_uri": "https://localhost:8080/"
        },
        "id": "MgpIIVPpIijv",
        "outputId": "5a1243db-f753-4dca-9fdf-50cbb008f0a7"
      },
      "execution_count": null,
      "outputs": [
        {
          "output_type": "execute_result",
          "data": {
            "text/plain": [
              "[-8888, -999, 88, 10000, 11111111111, 2888888888888]"
            ]
          },
          "metadata": {},
          "execution_count": 56
        }
      ]
    },
    {
      "cell_type": "code",
      "source": [
        "bubbleSort([1,4,3,2,6,77,99,66,55,44,33])"
      ],
      "metadata": {
        "colab": {
          "base_uri": "https://localhost:8080/"
        },
        "id": "KpA1Zp15Ijm5",
        "outputId": "fc7f7b21-1b28-41a4-9a13-4d2f1606537c"
      },
      "execution_count": null,
      "outputs": [
        {
          "output_type": "execute_result",
          "data": {
            "text/plain": [
              "[1, 2, 3, 4, 6, 33, 44, 55, 66, 77, 99]"
            ]
          },
          "metadata": {},
          "execution_count": 61
        }
      ]
    },
    {
      "cell_type": "code",
      "source": [
        "bubbleSort([100,-76,56,1,0,33,-9,567,333,111,8,9,6,5,4,33,22,11])"
      ],
      "metadata": {
        "colab": {
          "base_uri": "https://localhost:8080/"
        },
        "id": "ys1mbh68Ippo",
        "outputId": "3f28782d-f502-4b85-a8b0-e031f209e7fa"
      },
      "execution_count": null,
      "outputs": [
        {
          "output_type": "execute_result",
          "data": {
            "text/plain": [
              "[-76, -9, 0, 1, 4, 5, 6, 8, 9, 11, 22, 33, 33, 56, 100, 111, 333, 567]"
            ]
          },
          "metadata": {},
          "execution_count": 58
        }
      ]
    },
    {
      "cell_type": "code",
      "source": [
        "bubbleSort([154,-99,848,2,1,88,5,76,66,55,44,33,22,11,7])"
      ],
      "metadata": {
        "colab": {
          "base_uri": "https://localhost:8080/"
        },
        "id": "WjuJnxFhIsu3",
        "outputId": "9026c189-d8da-4910-9058-6e9d5d052fc8"
      },
      "execution_count": null,
      "outputs": [
        {
          "output_type": "execute_result",
          "data": {
            "text/plain": [
              "[-99, 1, 2, 5, 7, 11, 22, 33, 44, 55, 66, 76, 88, 154, 848]"
            ]
          },
          "metadata": {},
          "execution_count": 59
        }
      ]
    },
    {
      "cell_type": "markdown",
      "source": [
        "# Heap Sort Resposta\n"
      ],
      "metadata": {
        "id": "XiK94p1JBPZ0"
      }
    },
    {
      "cell_type": "code",
      "source": [
        "i = 5\n",
        "while i <= 10:\n",
        "  vetor = gerarArranjosAleatorios(i)\n",
        "  print(\"Vetor criado: \",str(vetor))\n",
        "  heapSort(vetor, i-1)\n",
        "  print(\"Vetor ordenado: \",str(vetor), \"\\n\")\n",
        "  i += 1"
      ],
      "metadata": {
        "id": "NqAOXFYT7ZMl",
        "outputId": "63aec11b-669d-4540-9ad3-8a0907303057",
        "colab": {
          "base_uri": "https://localhost:8080/"
        }
      },
      "execution_count": 14,
      "outputs": [
        {
          "output_type": "stream",
          "name": "stdout",
          "text": [
            "Vetor criado:  [946 513 368 754 531]\n",
            "Vetor ordenado:  [368 513 531 754 946] \n",
            "\n",
            "Vetor criado:  [544 707 383 412 353 157]\n",
            "Vetor ordenado:  [157 353 383 412 544 707] \n",
            "\n",
            "Vetor criado:  [547  72 929 154 314 967 547]\n",
            "Vetor ordenado:  [ 72 154 314 547 547 929 967] \n",
            "\n",
            "Vetor criado:  [206 682 958 415 319 661 952  55]\n",
            "Vetor ordenado:  [ 55 206 319 415 661 682 952 958] \n",
            "\n",
            "Vetor criado:  [988 365 724 492 788 794 369  15 729]\n",
            "Vetor ordenado:  [ 15 365 369 492 724 729 788 794 988] \n",
            "\n",
            "Vetor criado:  [642 485 312  47 683 579 284 342 561 823]\n",
            "Vetor ordenado:  [ 47 284 312 342 485 561 579 642 683 823] \n",
            "\n"
          ]
        }
      ]
    },
    {
      "cell_type": "markdown",
      "source": [
        "# Quick Sort com pivo sendo o ultimo elemento do arranjo"
      ],
      "metadata": {
        "id": "iQzVA0z8FAqZ"
      }
    },
    {
      "cell_type": "code",
      "source": [
        "quickSort([982,281,274,20,38,50 -21, 3,7,10, 35])"
      ],
      "metadata": {
        "colab": {
          "base_uri": "https://localhost:8080/"
        },
        "id": "1lUkfQOLNXGe",
        "outputId": "d1091506-3cc4-4d69-994e-e319c2c1cdf2"
      },
      "execution_count": null,
      "outputs": [
        {
          "output_type": "execute_result",
          "data": {
            "text/plain": [
              "[3, 7, 10, 20, 29, 35, 38, 274, 281, 982]"
            ]
          },
          "metadata": {},
          "execution_count": 2
        }
      ]
    },
    {
      "cell_type": "code",
      "source": [
        "quickSort([8,29,76,20,10,87,20,21,7,30,829,200,98])"
      ],
      "metadata": {
        "colab": {
          "base_uri": "https://localhost:8080/"
        },
        "id": "AaOpDkykPLeM",
        "outputId": "c9fd8f26-a22d-49f2-d015-922f598ce6f4"
      },
      "execution_count": null,
      "outputs": [
        {
          "output_type": "execute_result",
          "data": {
            "text/plain": [
              "[7, 8, 10, 20, 20, 21, 29, 30, 76, 87, 98, 200, 829]"
            ]
          },
          "metadata": {},
          "execution_count": 3
        }
      ]
    },
    {
      "cell_type": "code",
      "source": [
        "quickSort([89,20,31,98,10,12,30,15,90,15,2])"
      ],
      "metadata": {
        "colab": {
          "base_uri": "https://localhost:8080/"
        },
        "id": "7ZF16TzmPLQD",
        "outputId": "06c0ca9e-52ff-4214-e8c7-8512b892d91e"
      },
      "execution_count": null,
      "outputs": [
        {
          "output_type": "execute_result",
          "data": {
            "text/plain": [
              "[2, 10, 12, 15, 15, 20, 30, 31, 89, 90, 98]"
            ]
          },
          "metadata": {},
          "execution_count": 4
        }
      ]
    },
    {
      "cell_type": "code",
      "source": [
        "quickSort([25,33,98,100,285,98,33,84,75,98,75])"
      ],
      "metadata": {
        "colab": {
          "base_uri": "https://localhost:8080/"
        },
        "id": "TM7RcVguPN1f",
        "outputId": "eeb38d14-5eed-4cc6-d979-14cfb86c55fd"
      },
      "execution_count": null,
      "outputs": [
        {
          "output_type": "execute_result",
          "data": {
            "text/plain": [
              "[25, 33, 33, 75, 75, 84, 98, 98, 98, 100, 285]"
            ]
          },
          "metadata": {},
          "execution_count": 5
        }
      ]
    },
    {
      "cell_type": "code",
      "source": [
        "quickSort([238,-98,-18,-2,387,392,17,928,30,298,0])"
      ],
      "metadata": {
        "colab": {
          "base_uri": "https://localhost:8080/"
        },
        "id": "KCiWE6OPPNbU",
        "outputId": "387f8f26-5c2c-4a14-811b-42f5b3b4cba6"
      },
      "execution_count": null,
      "outputs": [
        {
          "output_type": "execute_result",
          "data": {
            "text/plain": [
              "[-98, -18, -2, 0, 17, 30, 238, 298, 387, 392, 928]"
            ]
          },
          "metadata": {},
          "execution_count": 10
        }
      ]
    },
    {
      "cell_type": "code",
      "execution_count": null,
      "metadata": {
        "colab": {
          "base_uri": "https://localhost:8080/"
        },
        "id": "nBfs279_1Vko",
        "outputId": "6a6e86cf-5b1e-4176-a1a5-93bfb4ded319"
      },
      "outputs": [
        {
          "name": "stdout",
          "output_type": "stream",
          "text": [
            "Boa sorte!!!\n"
          ]
        }
      ],
      "source": [
        "print(\"Boa sorte!!!\")"
      ]
    }
  ],
  "metadata": {
    "colab": {
      "collapsed_sections": [
        "kPNpzNYwkKAO",
        "9a-wJwU-wtmQ",
        "8dWpeYUvw-wU",
        "zNI1kX0yyDrs",
        "vk4vOTkKyLB-"
      ],
      "provenance": [],
      "toc_visible": true
    },
    "kernelspec": {
      "display_name": "Python 3",
      "name": "python3"
    },
    "language_info": {
      "name": "python"
    }
  },
  "nbformat": 4,
  "nbformat_minor": 0
}